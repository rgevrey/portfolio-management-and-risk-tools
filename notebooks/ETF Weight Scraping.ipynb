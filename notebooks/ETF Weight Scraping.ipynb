{
 "cells": [
  {
   "cell_type": "markdown",
   "metadata": {},
   "source": [
    "# ETF Weight Scraping\n",
    "This is to retrieve and compile portfolio weights from ETFs where this information is not released as .csv or .xls file. Useful to verify the verify the total asset allocation across the holistic portfolio."
   ]
  },
  {
   "cell_type": "markdown",
   "metadata": {},
   "source": [
    "## Documentation\n",
    "https://docs.python.org/3/library/http.cookiejar.html <br>\n",
    "https://docs.python.org/3/library/urllib.request.html#module-urllib.request <br>\n",
    "https://stackabuse.com/guide-to-parsing-html-with-beautifulsoup-in-python/ <br>\n",
    "https://docs.python-requests.org/en/latest/ <br> <br>\n",
    "#### Selenium\n",
    "https://selenium-python.readthedocs.io/installation.html <br>\n",
    "https://www.selenium.dev/documentation/webdriver/elements/finders/ <br>\n",
    "https://selenium-python.readthedocs.io/api.html#module-selenium.webdriver.support.expected_conditions\n"
   ]
  },
  {
   "cell_type": "markdown",
   "metadata": {},
   "source": [
    "## Import "
   ]
  },
  {
   "cell_type": "code",
   "execution_count": 143,
   "metadata": {},
   "outputs": [],
   "source": [
    "import pandas as pd\n",
    "import numpy as np\n",
    "import os\n",
    "import requests\n",
    "import json\n",
    "from bs4 import BeautifulSoup\n",
    "from http.cookiejar import CookieJar\n",
    "from selenium import webdriver\n",
    "from selenium.webdriver.common.by import By\n",
    "from selenium.webdriver.support import expected_conditions as EC\n",
    "from selenium.webdriver.support.ui import WebDriverWait"
   ]
  },
  {
   "cell_type": "markdown",
   "metadata": {},
   "source": [
    "## Function to extract the source code from a given page\n",
    "1. Supply the url of the table location and test the connection, go past the disclaimer pages\n",
    "2. Make sure the entire content of the page is displayed, check J script on the page for this\n",
    "3. Save the code as a flat file or html file or whatever works"
   ]
  },
  {
   "cell_type": "code",
   "execution_count": 9,
   "metadata": {},
   "outputs": [],
   "source": [
    "def url_scrap(url, path):\n",
    "    \"\"\"\n",
    "    Saves the full content of a web page on the drive\n",
    "    \"\"\"\n",
    "    # Getting the source code, it will be held in r.text\n",
    "    r = requests.get(url)\n",
    "    \n",
    "    # Saving \n",
    "    page_save = open(path, \"w\")\n",
    "    json.dump(r.text, page_save)\n",
    "    \n",
    "    print(\"File saved at \" + path)\n"
   ]
  },
  {
   "cell_type": "code",
   "execution_count": 10,
   "metadata": {},
   "outputs": [],
   "source": [
    "url = \"https://fundcentres.lgim.com/uk/en/fund-centre/PMC/World-Equity-Index-Fund\"\n",
    "path = os.getcwd() + \"/World-Equity-Index-Fund.html\"\n",
    "url_scrap(url,path)"
   ]
  },
  {
   "cell_type": "markdown",
   "metadata": {},
   "source": [
    "## Finding a way to bypass the disclaimer pages"
   ]
  },
  {
   "cell_type": "code",
   "execution_count": 29,
   "metadata": {},
   "outputs": [],
   "source": [
    "cj = CookieJar()\n",
    "r = requests.get(url, cookies = cj)"
   ]
  },
  {
   "cell_type": "code",
   "execution_count": 31,
   "metadata": {},
   "outputs": [
    {
     "data": {
      "text/plain": [
       "<RequestsCookieJar[Cookie(version=0, name='csrftoken', value='kAXcLwzrA907fFXW8U42lKrPrVbXD814EHKCZzC6HWQCULM9cyoEtV5hYVihNYO0', port=None, port_specified=False, domain='fundcentres.lgim.com', domain_specified=False, domain_initial_dot=False, path='/', path_specified=True, secure=True, expires=1672231083, discard=False, comment=None, comment_url=None, rest={'HttpOnly': None, 'SameSite': 'Lax'}, rfc2109=False), Cookie(version=0, name='sessionid', value='8qqfxo5wouqwyhrafe1268kg2kjbbkhp', port=None, port_specified=False, domain='fundcentres.lgim.com', domain_specified=False, domain_initial_dot=False, path='/', path_specified=True, secure=True, expires=None, discard=True, comment=None, comment_url=None, rest={'HttpOnly': None, 'SameSite': 'lax'}, rfc2109=False)]>"
      ]
     },
     "execution_count": 31,
     "metadata": {},
     "output_type": "execute_result"
    }
   ],
   "source": [
    "r.cookies"
   ]
  },
  {
   "cell_type": "markdown",
   "metadata": {},
   "source": [
    "### Trying selenium"
   ]
  },
  {
   "cell_type": "code",
   "execution_count": 153,
   "metadata": {},
   "outputs": [],
   "source": [
    "driver = webdriver.Chrome()\n",
    "driver.get(url) # It works"
   ]
  },
  {
   "cell_type": "code",
   "execution_count": 154,
   "metadata": {},
   "outputs": [],
   "source": [
    "cookie_accept = driver.find_element(By.ID, \"onetrust-accept-btn-handler\")\n",
    "cookie_accept.click() # It works"
   ]
  },
  {
   "cell_type": "code",
   "execution_count": 155,
   "metadata": {},
   "outputs": [],
   "source": [
    "terms_tick = driver.find_element(By.ID, \"popup-checkbox-$tools.math.add($velocityCount,-1)\")\n",
    "terms_tick.click() # It works"
   ]
  },
  {
   "cell_type": "raw",
   "metadata": {},
   "source": [
    "<button class=\"btn btn-secondary btn-accept\">Accept</button>"
   ]
  },
  {
   "cell_type": "markdown",
   "metadata": {},
   "source": [
    "%%html\n",
    "<img src=\"img/l&g-accept-button.png\">"
   ]
  },
  {
   "cell_type": "code",
   "execution_count": 88,
   "metadata": {},
   "outputs": [
    {
     "data": {
      "text/plain": [
       "[[],\n",
       " [],\n",
       " [<selenium.webdriver.remote.webelement.WebElement (session=\"2f86245a8495d1e05408a01a512ea580\", element=\"2ab686ed-ce93-4781-bef5-262411e49975\")>],\n",
       " []]"
      ]
     },
     "execution_count": 88,
     "metadata": {},
     "output_type": "execute_result"
    }
   ],
   "source": [
    "# To identify the correct naming of the accept button\n",
    "search_button = [driver.find_elements(By.CLASS_NAME, \"btn btn-secondary btn-accept\"),\n",
    "driver.find_elements(By.CLASS_NAME, \"btn-btn-secondarybtn-accept\"),\n",
    " driver.find_elements(By.CLASS_NAME, \"btn.btn-secondary.btn-accept\"),\n",
    "driver.find_elements(By.NAME, \"Accept\")]\n",
    "search_button"
   ]
  },
  {
   "cell_type": "code",
   "execution_count": 94,
   "metadata": {},
   "outputs": [
    {
     "data": {
      "text/plain": [
       "list"
      ]
     },
     "execution_count": 94,
     "metadata": {},
     "output_type": "execute_result"
    }
   ],
   "source": [
    "# Now there's an issue where the click doesn't work because we're now dealing with a list\n",
    "type(driver.find_elements(By.CLASS_NAME, \"btn.btn-secondary.btn-accept\"))"
   ]
  },
  {
   "cell_type": "code",
   "execution_count": 156,
   "metadata": {},
   "outputs": [],
   "source": [
    "# Trying the find_element approach\n",
    "terms_accept = driver.find_element(By.CLASS_NAME, \"btn.btn-secondary.btn-accept\") # It works!\n",
    "terms_accept.click() # Now working"
   ]
  },
  {
   "cell_type": "code",
   "execution_count": 129,
   "metadata": {},
   "outputs": [],
   "source": [
    "# Trying with Action Chains\n",
    "webdriver.ActionChains(driver).move_to_element(terms_accept).click(terms_accept).perform()"
   ]
  },
  {
   "cell_type": "code",
   "execution_count": 147,
   "metadata": {},
   "outputs": [
    {
     "name": "stdout",
     "output_type": "stream",
     "text": [
      "<selenium.webdriver.remote.webelement.WebElement (session=\"40a71adf8f7bd8ac07c5881a281fbffd\", element=\"84d9fcec-4a82-431a-bcb8-fdb6f1c13f03\")>\n"
     ]
    }
   ],
   "source": [
    "# Testing expected conditions from webdriver\n",
    "cookie_accept = WebDriverWait(driver, 10).until(EC.presence_of_element_located((By.ID, \"onetrust-accept-btn-handler\")))\n",
    "print(cookie_accept)"
   ]
  },
  {
   "cell_type": "markdown",
   "metadata": {},
   "source": [
    "The selenium stuff works but now the requests.get request to download the page does not use the same environment/approach so there is no benefit to the code until either 1) the requests.get receives the cookies from selenium or 2) you download the data directly from selenium"
   ]
  },
  {
   "cell_type": "code",
   "execution_count": 160,
   "metadata": {},
   "outputs": [],
   "source": [
    "# Trying option 2 straight away\n",
    "html = driver.page_source"
   ]
  },
  {
   "cell_type": "markdown",
   "metadata": {},
   "source": [
    "In testing the above works fine but with the combined function we end up downloading the terms and conditions again. So we need another wait"
   ]
  },
  {
   "cell_type": "code",
   "execution_count": 173,
   "metadata": {},
   "outputs": [],
   "source": [
    "# Adding a wait until the disclaimer is gone\n",
    "WebDriverWait(driver,10).until(EC.staleness_of(terms_accept))\n",
    "html = driver.page_source\n",
    "\n",
    "# Testing if the error comes from the way the file is saved\n",
    "path = os.getcwd() + \"/World-Equity-Index-Fund.html\"\n",
    "page_save = open(path, \"w\")\n",
    "page_save.write(html)\n",
    "page_save.close()"
   ]
  },
  {
   "cell_type": "markdown",
   "metadata": {},
   "source": [
    "### The combined function at the end"
   ]
  },
  {
   "cell_type": "code",
   "execution_count": 174,
   "metadata": {},
   "outputs": [],
   "source": [
    "def url_scrap(url, path):\n",
    "    \"\"\"\n",
    "    Saves the full content of a web page on the drive, bypassing disclaimer pages.\n",
    "    Works only with Chrome and the following websites re disclaimers:\n",
    "        - lgim.com\n",
    "    Args:\n",
    "        url : url to be scraped\n",
    "        path : where to save the file on the drive\n",
    "    \"\"\"\n",
    "    \n",
    "    # Bypassing disclaimers on the page to get to the real content\n",
    "    if url.find(\"lgim.com\") > 0:\n",
    "        driver = webdriver.Chrome() # TO DO - ADD A SELECTOR TO RECOGNISE THE BROWSER IN USE\n",
    "        driver.get(url)\n",
    "    \n",
    "        # ADD ASSERTIONS FOR WHEN MORE FLEXIBLE\n",
    "        \n",
    "        # Cookies banner at the top of LGIM\n",
    "        cookie_accept = WebDriverWait(driver, 10).until(EC.presence_of_element_located((By.ID, \"onetrust-accept-btn-handler\")))\n",
    "        cookie_accept.click()\n",
    "        \n",
    "        # Terms and conditions and confirmation we are professional investors\n",
    "        terms_tick = driver.find_element(By.ID, \"popup-checkbox-$tools.math.add($velocityCount,-1)\")\n",
    "        terms_tick.click()\n",
    "        terms_accept = driver.find_element(By.CLASS_NAME, \"btn.btn-secondary.btn-accept\") \n",
    "        terms_accept.click()\n",
    "    \n",
    "    # Getting the source code\n",
    "    WebDriverWait(driver,10).until(EC.staleness_of(terms_accept))\n",
    "    print(\"wait complete\") # DEBUG\n",
    "    html = driver.page_source \n",
    "    driver.close() \n",
    "    \n",
    "    # Saving \n",
    "    page_save = open(path, \"w\")\n",
    "    page_save.write(html)\n",
    "    page_save.close()\n",
    "    \n",
    "    print(\"File saved at \" + path)"
   ]
  },
  {
   "cell_type": "code",
   "execution_count": 176,
   "metadata": {},
   "outputs": [
    {
     "name": "stdout",
     "output_type": "stream",
     "text": [
      "wait complete\n",
      "File saved at /Users/mariagevrey/Dropbox/Romaria/Studies/Python Training Investment Management/World-Equity-Index-Fund.html\n"
     ]
    }
   ],
   "source": [
    "url = \"https://fundcentres.lgim.com/uk/en/fund-centre/PMC/World-Equity-Index-Fund\"\n",
    "path = os.getcwd() + \"/World-Equity-Index-Fund.html\"\n",
    "url_scrap(url,path)"
   ]
  },
  {
   "cell_type": "markdown",
   "metadata": {},
   "source": [
    "## Function to list all of the HTML and CSS tags in the page and create a dataframe with the content"
   ]
  },
  {
   "cell_type": "code",
   "execution_count": null,
   "metadata": {},
   "outputs": [],
   "source": []
  },
  {
   "cell_type": "markdown",
   "metadata": {},
   "source": [
    "soup "
   ]
  },
  {
   "cell_type": "markdown",
   "metadata": {},
   "source": [
    "## Function to translate any HTML table into a dataframe"
   ]
  },
  {
   "cell_type": "code",
   "execution_count": 32,
   "metadata": {},
   "outputs": [
    {
     "ename": "TypeError",
     "evalue": "'module' object is not callable",
     "output_type": "error",
     "traceback": [
      "\u001b[0;31m---------------------------------------------------------------------------\u001b[0m",
      "\u001b[0;31mTypeError\u001b[0m                                 Traceback (most recent call last)",
      "\u001b[0;32m<ipython-input-32-74a7c4098921>\u001b[0m in \u001b[0;36m<module>\u001b[0;34m\u001b[0m\n\u001b[0;32m----> 1\u001b[0;31m \u001b[0mos\u001b[0m\u001b[0;34m.\u001b[0m\u001b[0mpath\u001b[0m\u001b[0;34m(\u001b[0m\u001b[0;34m)\u001b[0m\u001b[0;34m\u001b[0m\u001b[0;34m\u001b[0m\u001b[0m\n\u001b[0m",
      "\u001b[0;31mTypeError\u001b[0m: 'module' object is not callable"
     ]
    }
   ],
   "source": [
    "os.path()"
   ]
  },
  {
   "cell_type": "code",
   "execution_count": null,
   "metadata": {},
   "outputs": [],
   "source": []
  }
 ],
 "metadata": {
  "kernelspec": {
   "display_name": "Python 3",
   "language": "python",
   "name": "python3"
  },
  "language_info": {
   "codemirror_mode": {
    "name": "ipython",
    "version": 3
   },
   "file_extension": ".py",
   "mimetype": "text/x-python",
   "name": "python",
   "nbconvert_exporter": "python",
   "pygments_lexer": "ipython3",
   "version": "3.8.5"
  }
 },
 "nbformat": 4,
 "nbformat_minor": 4
}
